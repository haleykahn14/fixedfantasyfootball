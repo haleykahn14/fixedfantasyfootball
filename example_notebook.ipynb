{
 "cells": [
  {
   "cell_type": "code",
   "execution_count": 2,
   "id": "b58461f7-7265-4fb2-b898-ef823c9ca28b",
   "metadata": {},
   "outputs": [],
   "source": [
    "# Dependencies\n",
    "import pandas as pd\n",
    "# uncomment this line to show all rows in the dataframe\n",
    "# pd.options.display.max_rows = 4000\n",
    "import espnfantasyfootball as espn\n",
    "import requests\n",
    "import espnsecrets\n",
    "\n",
    "LEAGUE_ID = 000000000\n"
   ]
  },
  {
   "cell_type": "code",
   "execution_count": 3,
   "id": "2044bd00",
   "metadata": {},
   "outputs": [],
   "source": [
    "league = espn.FantasyLeague(league_id=LEAGUE_ID, year=2024,\n",
    "                          swid=espnsecrets.swid, espn_s2=espnsecrets.espn_s2)\n"
   ]
  },
  {
   "cell_type": "code",
   "execution_count": null,
   "id": "d57d2e7d",
   "metadata": {},
   "outputs": [],
   "source": [
    "data = league.get_league_data()"
   ]
  },
  {
   "cell_type": "code",
   "execution_count": null,
   "id": "23bdc923",
   "metadata": {},
   "outputs": [],
   "source": [
    "data"
   ]
  },
  {
   "cell_type": "code",
   "execution_count": null,
   "id": "635ceb7f",
   "metadata": {},
   "outputs": [],
   "source": [
    "matchups = league.get_matchup_data()"
   ]
  },
  {
   "cell_type": "code",
   "execution_count": null,
   "id": "309e1fd0",
   "metadata": {},
   "outputs": [],
   "source": []
  },
  {
   "cell_type": "code",
   "execution_count": null,
   "id": "730fef1b",
   "metadata": {},
   "outputs": [],
   "source": [
    "matchups"
   ]
  },
  {
   "cell_type": "code",
   "execution_count": null,
   "id": "18d95468",
   "metadata": {},
   "outputs": [],
   "source": []
  }
 ],
 "metadata": {
  "kernelspec": {
   "display_name": "Python 3.9.7 ('base')",
   "language": "python",
   "name": "python3"
  },
  "language_info": {
   "codemirror_mode": {
    "name": "ipython",
    "version": 3
   },
   "file_extension": ".py",
   "mimetype": "text/x-python",
   "name": "python",
   "nbconvert_exporter": "python",
   "pygments_lexer": "ipython3",
   "version": "3.9.13"
  },
  "vscode": {
   "interpreter": {
    "hash": "838e51ec53c769d56e1cc4cb363682f0a508bbcae9a91bec1df886143b87e50b"
   }
  }
 },
 "nbformat": 4,
 "nbformat_minor": 5
}
